{
 "cells": [
  {
   "cell_type": "code",
   "execution_count": 1,
   "id": "60ded925-90ca-41c0-946d-bf25c681338c",
   "metadata": {},
   "outputs": [],
   "source": [
    "#Reference to local files\n",
    "from constants import *\n",
    "\n"
   ]
  },
  {
   "cell_type": "code",
   "execution_count": 4,
   "id": "fe090d4d-a4ae-4419-8fb3-c402c7e6b087",
   "metadata": {},
   "outputs": [],
   "source": [
    "#Import Dependencies \n",
    "import subprocess\n",
    "import json\n",
    "import os\n",
    "from dotenv import load_dotenv\n",
    "\n",
    "from bit import wif_to_key\n",
    "from web3 import Web3\n",
    "from bit import *\n",
    "from web3.middleware import geth_poa_middleware\n",
    "from eth_account import Account\n",
    "from pathlib import Path\n",
    "from getpass import getpass\n",
    "from bit.network import NetworkAPI"
   ]
  },
  {
   "cell_type": "code",
   "execution_count": 6,
   "id": "35bf8459-b8dd-4924-b6b2-0254f7f498a7",
   "metadata": {},
   "outputs": [
    {
     "name": "stdout",
     "output_type": "stream",
     "text": [
      "shuffle kitchen snake payment raccoon ignore demand satoshi final aerobic morning mass\n",
      "-----------------------------------\n",
      "cMb3pLmrMW9sbnysRiM96dnHw9x7HwSEzgadZd5fTKq42jE5CRCV\n",
      "-----------------------------------\n",
      "e83b2a55b98d73ab2d4e8b1ae881e4380a3df4ece7b5708cd0eced8850afd99a\n",
      "-----------------------------------\n"
     ]
    }
   ],
   "source": [
    "#Check and load .env file information\n",
    "load_dotenv()\n",
    "men_key = os.getenv('men_key')\n",
    "btc_privatekey = os.getenv('btc_privatekey')\n",
    "eth_privatekey = os.getenv('eth_privatekey')\n",
    "\n",
    "print(men_key)\n",
    "print('-----------------------------------')\n",
    "print(btc_privatekey)\n",
    "print('-----------------------------------')\n",
    "print(eth_privatekey)\n",
    "print('-----------------------------------')"
   ]
  },
  {
   "cell_type": "code",
   "execution_count": 7,
   "id": "848b5824-71a2-438e-826e-729b05885cb8",
   "metadata": {},
   "outputs": [],
   "source": [
    "#Create a function called `derive_wallets`\n",
    "def derive_wallets(menkey, coin, numderive):\n",
    "    command =  'php derive -g --mnemonic=\"menkey\" --cols=path,address,privkey,pubkey --format=json'\n",
    "    p = subprocess.Popen(command, stdout=subprocess.PIPE, shell=True)\n",
    "    output, err = p.communicate()\n",
    "    p_status = p.wait()\n",
    "    return json.loads(output)\n"
   ]
  },
  {
   "cell_type": "code",
   "execution_count": 9,
   "id": "78149062-0942-40c6-9bac-b3fc7c3db6c2",
   "metadata": {},
   "outputs": [],
   "source": [
    "# Create a dictionary object called coins to store the output from `derive_wallets`.\n",
    "coins = {\"ETH\", \"BTCTEST\"}\n",
    "\n",
    "coin_keys = {}\n",
    "for coin in coins:\n",
    "    coin_keys[coin] = derive_wallets(men_key, coin, 2)"
   ]
  },
  {
   "cell_type": "code",
   "execution_count": 10,
   "id": "2c78d169-3813-4588-8c03-bfcb36427529",
   "metadata": {
    "collapsed": true,
    "jupyter": {
     "outputs_hidden": true
    },
    "tags": []
   },
   "outputs": [
    {
     "data": {
      "text/plain": [
       "{'BTCTEST': [{'path': \"m/44'/0'/0'/0/0\",\n",
       "   'address': '17AqTbYNCrHMo71GuhsukbavvbbX2bcp9a',\n",
       "   'privkey': 'L2BwAWzKmC1vF2EJP8aDeoC4AqNLFTfbRVyvEua4cgwGscDyALNs',\n",
       "   'pubkey': '02778d1b2cbefa1e26eee707ebe5db36b4064e3c489f1915be1c7151df20b9bc5f'},\n",
       "  {'path': \"m/44'/0'/0'/0/1\",\n",
       "   'address': '1M895btaARGZWCgnemto7isDnwsJNbwzCH',\n",
       "   'privkey': 'KxcFwimJNtq1hVQ5Zkjb881M3LFjEyVaZ65AvHmzvj4xK8BqLd5o',\n",
       "   'pubkey': '024a866e2bc1cc08f43b721b3315a5edc02159efb4f004333f4756bee37179cdee'},\n",
       "  {'path': \"m/44'/0'/0'/0/2\",\n",
       "   'address': '19jeEK2togdsW1YKQRgD1bR6FNVbqVftJp',\n",
       "   'privkey': 'L4Us4AqCevQALtv8UP38titF9eKBohj3fBXbmGyW4FNSAAF9srSj',\n",
       "   'pubkey': '0231556833e8d7122ce9894221f5d6c69c86e808a72f68e96b4ea7c1c0d48b1df5'},\n",
       "  {'path': \"m/44'/0'/0'/0/3\",\n",
       "   'address': '18JKxbWV8D9zoiZgMzifCEuW65UeESvG6Y',\n",
       "   'privkey': 'L1Mm2RNySPW93g7DQjMAWjP7W4BA5GnrBqmkq8zNdqmqv6vWPUJD',\n",
       "   'pubkey': '036e5b7cb8aadc3cf5c1874f09e94d675549e8cb7c696a33333b1cb9272acaa8e6'},\n",
       "  {'path': \"m/44'/0'/0'/0/4\",\n",
       "   'address': '1CJ669JmKtNigcjqHntKEbroYSdrAGDv92',\n",
       "   'privkey': 'L45AYkJ5xc7xRsybbPx5HHoyf2JTmqdiwkZSxRWd73kmBgrZm7M5',\n",
       "   'pubkey': '02555c5c2b4f8042ec49812a9a04cffb394dec6d1ab2d9980ddf111015dc2d92c3'},\n",
       "  {'path': \"m/44'/0'/0'/0/5\",\n",
       "   'address': '1DmKPxx3SyaAVFoLeADHqJNhUVzxyctbzG',\n",
       "   'privkey': 'L5mKpxLLW7j5cVHFZzkM3BGBCvdDFbqogx4esKudfm2qP1HjABAo',\n",
       "   'pubkey': '03b319e7705b7f2d572a493b4c9a56b9022eafc9d285d9ef486dccabfcd05cef6d'},\n",
       "  {'path': \"m/44'/0'/0'/0/6\",\n",
       "   'address': '1PGdh3C13Ys7QRbcBfUcVqcf9sHtBnzQRW',\n",
       "   'privkey': 'KyCc7qazFLyG4tJWQEbihSaLt7hTzXGi3fwLnnaEMoyBxdMoiLZA',\n",
       "   'pubkey': '0226896d9b60b8a78f9e740e2bb07f5ca63f2b97f5eea9a5ce03dd7b7215638126'},\n",
       "  {'path': \"m/44'/0'/0'/0/7\",\n",
       "   'address': '1BKDr8G23zoziPWTR9pw7GmQno1R1tUsT1',\n",
       "   'privkey': 'KywYSVygzg1kEUNKRGpYPZ9pZfUx6je3tB1Uapj9gHyY7p3hHXCA',\n",
       "   'pubkey': '0399fbf311b6bf92edb598f29abb487397a16a9b775c70fb472bce27f46613d7d4'},\n",
       "  {'path': \"m/44'/0'/0'/0/8\",\n",
       "   'address': '1LLBw2A2CPGvVJBe4BCw45QzaoK2DrLfkq',\n",
       "   'privkey': 'L3kSLat2NzMzSPhX5aUkfzZyopW1HQyASYXxnGNxZjnEKYsBzgcH',\n",
       "   'pubkey': '03bbebfdfa8ebbd5f0fc48122d63103098c1531c1ab3fbaa96c2bf11299d5f6645'},\n",
       "  {'path': \"m/44'/0'/0'/0/9\",\n",
       "   'address': '1BnLqre34nZ7UZ93MfAkq6CEN5CwEd4m9L',\n",
       "   'privkey': 'KyyakFpXdb7KQQAqz6qD1mdbvLSKRH6WjoAzvRxkk3A41NgXgA9t',\n",
       "   'pubkey': '03670e8b3963820b8ff6d4d72ba5fb0375f33def3f11339990ef2991ffc6f54b6f'}],\n",
       " 'ETH': [{'path': \"m/44'/0'/0'/0/0\",\n",
       "   'address': '17AqTbYNCrHMo71GuhsukbavvbbX2bcp9a',\n",
       "   'privkey': 'L2BwAWzKmC1vF2EJP8aDeoC4AqNLFTfbRVyvEua4cgwGscDyALNs',\n",
       "   'pubkey': '02778d1b2cbefa1e26eee707ebe5db36b4064e3c489f1915be1c7151df20b9bc5f'},\n",
       "  {'path': \"m/44'/0'/0'/0/1\",\n",
       "   'address': '1M895btaARGZWCgnemto7isDnwsJNbwzCH',\n",
       "   'privkey': 'KxcFwimJNtq1hVQ5Zkjb881M3LFjEyVaZ65AvHmzvj4xK8BqLd5o',\n",
       "   'pubkey': '024a866e2bc1cc08f43b721b3315a5edc02159efb4f004333f4756bee37179cdee'},\n",
       "  {'path': \"m/44'/0'/0'/0/2\",\n",
       "   'address': '19jeEK2togdsW1YKQRgD1bR6FNVbqVftJp',\n",
       "   'privkey': 'L4Us4AqCevQALtv8UP38titF9eKBohj3fBXbmGyW4FNSAAF9srSj',\n",
       "   'pubkey': '0231556833e8d7122ce9894221f5d6c69c86e808a72f68e96b4ea7c1c0d48b1df5'},\n",
       "  {'path': \"m/44'/0'/0'/0/3\",\n",
       "   'address': '18JKxbWV8D9zoiZgMzifCEuW65UeESvG6Y',\n",
       "   'privkey': 'L1Mm2RNySPW93g7DQjMAWjP7W4BA5GnrBqmkq8zNdqmqv6vWPUJD',\n",
       "   'pubkey': '036e5b7cb8aadc3cf5c1874f09e94d675549e8cb7c696a33333b1cb9272acaa8e6'},\n",
       "  {'path': \"m/44'/0'/0'/0/4\",\n",
       "   'address': '1CJ669JmKtNigcjqHntKEbroYSdrAGDv92',\n",
       "   'privkey': 'L45AYkJ5xc7xRsybbPx5HHoyf2JTmqdiwkZSxRWd73kmBgrZm7M5',\n",
       "   'pubkey': '02555c5c2b4f8042ec49812a9a04cffb394dec6d1ab2d9980ddf111015dc2d92c3'},\n",
       "  {'path': \"m/44'/0'/0'/0/5\",\n",
       "   'address': '1DmKPxx3SyaAVFoLeADHqJNhUVzxyctbzG',\n",
       "   'privkey': 'L5mKpxLLW7j5cVHFZzkM3BGBCvdDFbqogx4esKudfm2qP1HjABAo',\n",
       "   'pubkey': '03b319e7705b7f2d572a493b4c9a56b9022eafc9d285d9ef486dccabfcd05cef6d'},\n",
       "  {'path': \"m/44'/0'/0'/0/6\",\n",
       "   'address': '1PGdh3C13Ys7QRbcBfUcVqcf9sHtBnzQRW',\n",
       "   'privkey': 'KyCc7qazFLyG4tJWQEbihSaLt7hTzXGi3fwLnnaEMoyBxdMoiLZA',\n",
       "   'pubkey': '0226896d9b60b8a78f9e740e2bb07f5ca63f2b97f5eea9a5ce03dd7b7215638126'},\n",
       "  {'path': \"m/44'/0'/0'/0/7\",\n",
       "   'address': '1BKDr8G23zoziPWTR9pw7GmQno1R1tUsT1',\n",
       "   'privkey': 'KywYSVygzg1kEUNKRGpYPZ9pZfUx6je3tB1Uapj9gHyY7p3hHXCA',\n",
       "   'pubkey': '0399fbf311b6bf92edb598f29abb487397a16a9b775c70fb472bce27f46613d7d4'},\n",
       "  {'path': \"m/44'/0'/0'/0/8\",\n",
       "   'address': '1LLBw2A2CPGvVJBe4BCw45QzaoK2DrLfkq',\n",
       "   'privkey': 'L3kSLat2NzMzSPhX5aUkfzZyopW1HQyASYXxnGNxZjnEKYsBzgcH',\n",
       "   'pubkey': '03bbebfdfa8ebbd5f0fc48122d63103098c1531c1ab3fbaa96c2bf11299d5f6645'},\n",
       "  {'path': \"m/44'/0'/0'/0/9\",\n",
       "   'address': '1BnLqre34nZ7UZ93MfAkq6CEN5CwEd4m9L',\n",
       "   'privkey': 'KyyakFpXdb7KQQAqz6qD1mdbvLSKRH6WjoAzvRxkk3A41NgXgA9t',\n",
       "   'pubkey': '03670e8b3963820b8ff6d4d72ba5fb0375f33def3f11339990ef2991ffc6f54b6f'}]}"
      ]
     },
     "execution_count": 10,
     "metadata": {},
     "output_type": "execute_result"
    }
   ],
   "source": [
    "# Confirm final object\n",
    "coin_keys"
   ]
  },
  {
   "cell_type": "code",
   "execution_count": 11,
   "id": "135a7097-29d0-4ea7-928f-69cc80c11da9",
   "metadata": {},
   "outputs": [],
   "source": [
    "# Create a function called `priv_key_to_account` that converts privkey strings to account objects.\n",
    "def priv_key_to_account(coin, private_key):\n",
    "    if coin == ETH:\n",
    "        return Account.privateKeyToAccount(private_key)\n",
    "    if coin == BTCTEST:\n",
    "        return PrivateKeyTestnet(private_key)"
   ]
  },
  {
   "cell_type": "code",
   "execution_count": 12,
   "id": "c8705214-9dad-4fa8-b08d-e82b14158861",
   "metadata": {},
   "outputs": [
    {
     "name": "stdout",
     "output_type": "stream",
     "text": [
      "<eth_account.signers.local.LocalAccount object at 0x0000023699A88D08>\n",
      "<PrivateKeyTestnet: mfys3aWwCHLUpEujadCpvzxRh2w1jr6v8k>\n"
     ]
    }
   ],
   "source": [
    "# Test function and get private key for ETH and BTCTEST\n",
    "ETH_key = priv_key_to_account(ETH, eth_privatekey)\n",
    "\n",
    "BTCTEST_key = priv_key_to_account(BTCTEST, btc_privatekey) \n",
    "\n",
    "print(ETH_key)\n",
    "print(BTCTEST_key)"
   ]
  },
  {
   "cell_type": "code",
   "execution_count": 14,
   "id": "bf076392-df2e-411c-a48b-961bcd29d185",
   "metadata": {},
   "outputs": [],
   "source": [
    "# Create a function called `create_raw_tx` that creates an unsigned transaction appropriate metadata.\n",
    "def create_raw_tx(coin, account, recipient, amount):\n",
    "    if coin == ETH:\n",
    "        gasEstimate = w3.eth.estimateGas({\"from\": account.address, \"to\": recipient, \"value\": amount})\n",
    "        return {\n",
    "        \"from\": account.address,\n",
    "        \"to\": recipient,\n",
    "        \"value\": amount,\n",
    "        \"gasPrice\": w3.eth.gasPrice,\n",
    "        \"gas\": gasEstimate,\n",
    "        \"nonce\": w3.eth.getTransactionCount(account.address)\n",
    "    }\n",
    "    \n",
    "    if coin == BTCTEST: \n",
    "        return PrivateKeyTestnet.prepare_transaction(account.address, [(recipient, amount, BTC)])"
   ]
  },
  {
   "cell_type": "code",
   "execution_count": 15,
   "id": "99d55b18-3739-4fc8-b48a-fc9da909c9ff",
   "metadata": {},
   "outputs": [],
   "source": [
    "# Create a function called `send_tx` that calls `create_tx`, signs and sends the transaction.\n",
    "def send_tx(coin, account, recipient, amount):\n",
    "    tx = create_raw_tx(coin, account, recipient, amount)\n",
    "    signed_tx = account.sign_transaction(tx)\n",
    "    if coin == ETH:\n",
    "        result = w3.eth.sendRawTransaction(signed_tx.rawTransaction)\n",
    "        return result.hex()\n",
    "    elif coin == BTCTEST:\n",
    "        return NetworkAPI.broadcast_tx_testnet(signed_tx)\n"
   ]
  },
  {
   "cell_type": "code",
   "execution_count": 21,
   "id": "16d97b5e-f930-4c3f-a632-30cfc67e3660",
   "metadata": {},
   "outputs": [
    {
     "data": {
      "text/plain": [
       "'0.0003'"
      ]
     },
     "execution_count": 21,
     "metadata": {},
     "output_type": "execute_result"
    }
   ],
   "source": [
    "# After funding balance with bitcoin (see screenshot), reconfirm current balance\n",
    "btc_key = wif_to_key(btc_privatekey)\n",
    "btc_key.get_balance('btc')"
   ]
  },
  {
   "cell_type": "code",
   "execution_count": 22,
   "id": "fcd92619-93a3-4f2a-8cf4-ac10c402901c",
   "metadata": {},
   "outputs": [],
   "source": [
    "# Send transaction to another account using send_tx function\n",
    "# Transaction will be sent to a second account that has been created in Step 3 - see .txt file\n",
    "send_tx(BTCTEST, BTCTEST_key, 'n1YhAstdvCLpE2fQPaBRjUXWsu1AjzJG3n', 0.0002)"
   ]
  },
  {
   "cell_type": "code",
   "execution_count": 23,
   "id": "08926042-c300-483d-8f4c-57bb42e23d6a",
   "metadata": {},
   "outputs": [
    {
     "data": {
      "text/plain": [
       "'0.0002'"
      ]
     },
     "execution_count": 23,
     "metadata": {},
     "output_type": "execute_result"
    }
   ],
   "source": [
    "# Using private key of the second account - confirm if the coins have arrived \n",
    "# Alternatively, refer to the attached screenshot No. 4\n",
    "btc_key_two = wif_to_key('cTpbj5kmLAmrvZkM67EDRXcn1UiSJNjzaCutXDwX9jeZVVRQUUdu')\n",
    "btc_key_two.get_balance('btc')"
   ]
  },
  {
   "cell_type": "code",
   "execution_count": null,
   "id": "26010746-32e6-443f-837d-9dc215835cc0",
   "metadata": {},
   "outputs": [],
   "source": []
  }
 ],
 "metadata": {
  "kernelspec": {
   "display_name": "Python 3 (ipykernel)",
   "language": "python",
   "name": "python3"
  },
  "language_info": {
   "codemirror_mode": {
    "name": "ipython",
    "version": 3
   },
   "file_extension": ".py",
   "mimetype": "text/x-python",
   "name": "python",
   "nbconvert_exporter": "python",
   "pygments_lexer": "ipython3",
   "version": "3.7.11"
  }
 },
 "nbformat": 4,
 "nbformat_minor": 5
}
